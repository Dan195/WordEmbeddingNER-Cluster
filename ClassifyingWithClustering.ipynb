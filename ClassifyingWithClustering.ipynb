{
 "cells": [
  {
   "cell_type": "markdown",
   "metadata": {},
   "source": [
    "# Classification tests - Testing K Nearest Neighbors, Random Forest and Support Vector Classifications using a test set of 50 documents\n",
    "## Try these 3 different models to classify with word vectors of candidates generated via word2vec \n",
    "## Try these 3 different models to classify PS-similarity measures from candidates generated via word2vec\n"
   ]
  },
  {
   "cell_type": "markdown",
   "metadata": {},
   "source": [
    "<h2>File definitions...</h2>\n",
    "<h4>\n",
    "WordEmbeddingNER-master\\WordEmbeddingNER-master\\data\\polymer_ner_evaluation.csv\n",
    "</h4>\n",
    "This file contains list of candidates for the 50 papers and each one should have a yes/no attached to it to check what the expert did.\n",
    "\n",
    "<br>\n",
    "<h4>\n",
    "../candidates/listformat/full_doc_candidates_refined.txt\n",
    "</h4>\n",
    "\n"
   ]
  },
  {
   "cell_type": "code",
   "execution_count": 1,
   "metadata": {},
   "outputs": [],
   "source": [
    "# -*- coding: utf-8 -*-\n",
    "from   __future__ import division\n",
    "import os\n",
    "import re\n",
    "import sys\n",
    "import csv\n",
    "import math\n",
    "import numpy as np\n",
    "import pandas as pd\n",
    "import sqlite3\n",
    "import matplotlib.pyplot as plt\n",
    "from   matplotlib.colors import ListedColormap\n",
    "from   sklearn import neighbors, datasets\n",
    "import gensim, logging\n",
    "from gensim.models import FastText\n",
    "import fasttext\n",
    "\n",
    "\n",
    "from   sklearn import svm\n",
    "from   sklearn.svm import SVR\n",
    "from   sklearn.svm import SVC\n",
    "from   sklearn.metrics import f1_score, precision_score, recall_score\n",
    "import sklearn\n",
    "import spacy\n",
    "\n",
    "from   sklearn.model_selection import train_test_split\n",
    "from   sklearn.model_selection import GridSearchCV\n",
    "from   sklearn.metrics import classification_report\n",
    "from   sklearn.neural_network import MLPClassifier\n",
    "\n",
    "from   sklearn.manifold import TSNE\n",
    "\n",
    "from   sklearn.ensemble import RandomForestRegressor\n",
    "from   sklearn.model_selection import train_test_split, GridSearchCV, ShuffleSplit\n",
    "import scipy as sp\n",
    "import _pickle as pkl\n",
    "#import cPickle as pkl\n",
    "import numpy as np\n",
    "import matplotlib.pyplot as plt\n",
    "from collections import Counter\n",
    "\n",
    "from   sklearn.ensemble import RandomForestClassifier\n",
    "\n",
    "# This log shows progress and is very useful\n",
    "logging.basicConfig(format='%(asctime)s : %(levelname)s : %(message)s', level=logging.INFO)\n",
    "\n",
    "# Load spacy for candidate processing\n",
    "nlp = spacy.load(\"en_core_web_sm\")\n",
    "# Adding these into the vocabulary\n",
    "nlp.vocab[u\"diblock\"].is_stop = False\n",
    "nlp.vocab[u\"g/mol\"].is_stop   = False\n",
    "nlp.vocab[u\"kg/mol\"].is_stop  = False"
   ]
  },
  {
   "cell_type": "code",
   "execution_count": 2,
   "metadata": {},
   "outputs": [],
   "source": [
    "GROUND_TRUTH_INPUT = \"../ground_truth/ground_truth_list_format.txt\"\n",
    "FULL_CANDIDATES = \"../../data/polymer_ner_evaluation.csv\"\n",
    "CBOW_MODEL = \"../../models/FT_cbow.bin\""
   ]
  },
  {
   "cell_type": "markdown",
   "metadata": {},
   "source": [
    "Below, we will create a file with all of the sentences from the processed_sentence column in \n",
    "sentences table. This file will serve as the training file for the fasttext unsupervised learning algorithm,\n",
    "and the vectors will then be used for clustering and classification. "
   ]
  },
  {
   "cell_type": "code",
   "execution_count": 3,
   "metadata": {},
   "outputs": [],
   "source": [
    "# Connect to db\n",
    "def connect_to_db():\n",
    "    database = \"../../db/sentences.db\"\n",
    "    conn = create_connection(database)\n",
    "    return conn\n",
    "# Connect to DB\n",
    "def create_connection(db_file):\n",
    "    try:\n",
    "        conn = sqlite3.connect(db_file)\n",
    "        return conn\n",
    "    except Exception as e:\n",
    "        print(e)\n",
    " \n",
    "    return None\n",
    "\n",
    "# Get sentences\n",
    "def get_sentences_from_db(conn):\n",
    "    sentences = ''\n",
    "    cur = conn.cursor()\n",
    "    cur.execute(\"select processed_sentence from sentences\") \n",
    "    rows = cur.fetchall()\n",
    "    \n",
    "    with open('processed_sentences.txt','w',encoding=\"utf-8\") as f:\n",
    "        for row in rows:\n",
    "             f.write(row[0]+'\\n')\n",
    "\n"
   ]
  },
  {
   "cell_type": "markdown",
   "metadata": {},
   "source": [
    "First, we will train the FastText algorithm on polymers.test . The polymers.test includes 150 documents. "
   ]
  },
  {
   "cell_type": "code",
   "execution_count": 4,
   "metadata": {},
   "outputs": [],
   "source": [
    "conn = connect_to_db()\n",
    "get_sentences_from_db(conn)"
   ]
  },
  {
   "cell_type": "markdown",
   "metadata": {},
   "source": [
    "Below, we will get the models both for the supervised vectors and unsupervised vectors."
   ]
  },
  {
   "cell_type": "code",
   "execution_count": 5,
   "metadata": {},
   "outputs": [],
   "source": [
    "supervised_model = fasttext.train_supervised('../../data/polymers.test')\n",
    "unsupervised_model = fasttext.train_unsupervised('processed_sentences.txt')"
   ]
  },
  {
   "cell_type": "code",
   "execution_count": 6,
   "metadata": {},
   "outputs": [],
   "source": [
    "def word_list_from_doc(test_data):\n",
    "    \"\"\"processes dfs where original file \n",
    "    is of the form [label, sentence] \"\"\"\n",
    "    \n",
    "    sentences_to_words = []\n",
    "    \n",
    "    df = pd.DataFrame(test_data[0].str.split(\" \",1))\n",
    "    sentences = df[0].str[1].apply(lambda x: x.lstrip('b'))\n",
    "    \n",
    "    for sentence in sentences:\n",
    "        words = sentence.split(\" \")\n",
    "        for word in words:\n",
    "            sentences_to_words.append(word)\n",
    "    \n",
    "    return sentences_to_words\n",
    "\n",
    "def get_ground_truths(gt_input):\n",
    "    with open(gt_input, 'r') as f:\n",
    "        ground_truths = f.readlines()\n",
    "        \n",
    "    return [ground_truth.strip('\\n').lower() for ground_truth in ground_truths]"
   ]
  },
  {
   "cell_type": "code",
   "execution_count": 7,
   "metadata": {},
   "outputs": [],
   "source": [
    "ground_truths = get_ground_truths(GROUND_TRUTH_INPUT)"
   ]
  },
  {
   "cell_type": "code",
   "execution_count": 15,
   "metadata": {},
   "outputs": [],
   "source": [
    "with open('../candidates/listformat/full_doc_candidates_refined.txt',\"r\",encoding=\"utf-8\") as f:\n",
    "    fulldoc_candidates = []\n",
    "    for candidate in f.readlines():\n",
    "        fulldoc_candidates.append(candidate.strip(\"\\n\"))       "
   ]
  },
  {
   "cell_type": "code",
   "execution_count": 8,
   "metadata": {},
   "outputs": [],
   "source": [
    "#Gets candidates from a fulldocument of candidates text file\n",
    "def get_fulldoc_candidates(doc_path):\n",
    "    with open(doc_path,'r', encoding='utf-8') as f:\n",
    "        candidates = f.readlines()\n",
    "        \n",
    "    return [candidate.strip('\\n') for candidate in candidates]"
   ]
  },
  {
   "cell_type": "code",
   "execution_count": 9,
   "metadata": {},
   "outputs": [],
   "source": [
    "def get_training_testing_data(features, target):\n",
    "    # Dataset, training and testing datasets\n",
    "    X = np.asarray(features)\n",
    "    y = np.asarray(target)\n",
    "    Xtrain, Xtest, ytrain, ytest = train_test_split(\n",
    "        X, y, test_size=0.1, random_state=0)\n",
    "    return Xtrain, Xtest, ytrain, ytest"
   ]
  },
  {
   "cell_type": "code",
   "execution_count": 10,
   "metadata": {},
   "outputs": [],
   "source": [
    "# Get metrics - I think I can do that with scikit learn\n",
    "def metrics(predicted, actual):  \n",
    "    true_pos = 0\n",
    "    false_pos = 0\n",
    "    false_neg = 0\n",
    "    true_neg = 0\n",
    "    num_pos = 0\n",
    "    num_polys = 0\n",
    "    for i in range(len(predicted)):\n",
    "        if predicted[i] == 1 and actual[i] == 1:\n",
    "            true_pos = true_pos + 1\n",
    "        elif predicted[i] == 1 and actual[i] == 0:\n",
    "            false_pos = false_pos + 1\n",
    "        elif predicted[i] == 0 and actual[i] == 0:\n",
    "            true_neg = true_neg + 1\n",
    "        elif predicted[i] == 0 and actual[i] == 1:\n",
    "            false_neg = false_neg + 1\n",
    "\n",
    "    print('    Test points:     %d' % len(predicted))\n",
    "    print('    True positives:  %d' % true_pos)\n",
    "    print('    False positive:  %d' % false_pos)\n",
    "    print('    True negatives:  %d' % true_neg)\n",
    "    print('    False negatives: %d' % false_neg)\n",
    "    \n",
    "    if false_pos+true_pos > 0:\n",
    "        precision = true_pos/(true_pos+false_pos)\n",
    "\n",
    "        recall = true_pos/(true_pos+false_neg)\n",
    "        accuracy = (true_pos + true_neg)/(true_pos+true_neg+false_pos+false_neg)\n",
    "        f1score = 2/((1/recall)+(1/precision))\n",
    "    else: #FIXME\n",
    "        precision = 0\n",
    "        recall = 1\n",
    "        f1score = -1 #FIXME: check \n",
    "    print('    Precision:       %.3f' % precision)\n",
    "    print('    Recall:          %.3f' % recall)\n",
    "    #print \"Accuracy: \", accuracy / just to check my metrics function was correct\n",
    "    print('    F-1 score:       %.3f' %f1score)\n",
    "    #print clf.score(predicted,actual)\n",
    "    return f1score"
   ]
  },
  {
   "cell_type": "code",
   "execution_count": 11,
   "metadata": {},
   "outputs": [],
   "source": [
    "# Check if a string is a number\n",
    "def is_number(n):\n",
    "    try:\n",
    "        float(n)\n",
    "        return True\n",
    "    except ValueError:\n",
    "        return False\n",
    "\n",
    "# First use vectors as features\n",
    "def refine_candidate(candidate,model):\n",
    "    # Top context words in DB\n",
    "    frequent_context_words = [\"weight\",\"material\",\"system\",\"chains\",\"samples\", \"systems\",\"Tg\",\"weights\",\"comparison\",\"chromatography\",\"Mn\",\"THF\",\"toluene\",\"GPC\",\"chloroform\",\"index\",\"Column\",\"columns\",\"standards\",\"reference\",\"segments\",\"polydispersity\",\"substrate\",\"block\",\"components\",\"permeation\",\"component\",\"Mw\",\"bulk\",\"standard\",\"calibration\",\"dynamics\",\"cross-linked\",\"cells\",\"domains\",\"segment\",\"mixtures\",\"densities\",\"substrates\",\"well-defined\",\"silica\",\"SEC\",\"particles\",\"compositions\",\"surfaces\",\"linear\"]\n",
    "    \n",
    "    common_polys = ['polyethylene', 'polyurethane', 'polypropylene', 'polyester', 'PS', 'polystyrene', 'PLA', 'PI', 'PET', 'PVP', 'PEG', 'cellulose', 'PAN', 'methyl'] #These are polymers that could appear within spacy vocab\n",
    "    common_polys = [polymer.lower() for polymer in common_polys] \n",
    "\n",
    "    # Filter out junk values\n",
    "    junk_vals = []\n",
    "        \n",
    "    if (candidate in nlp.vocab) and candidate.lower() not in common_polys:\n",
    "        return \"ignore_due_to_english_word\"\n",
    "    \n",
    "    try:\n",
    "#         vocab_obj = model.get_word_vector(candidate) #model.wv.vocab[candidate]\n",
    "#         freq= vocab_obj.count\n",
    "\n",
    "        if candidate in frequent_context_words:\n",
    "            return \"ignore_due_to_context\"\n",
    "\n",
    "        junk = False\n",
    "        items = re.split(' |:|;|-',candidate)\n",
    "        for item in items:\n",
    "            #Removing items that are sentences within  parenthesis\n",
    "            if item != \"poly\" and is_number(item)==False and (\"standard\" in item or (item in nlp.vocab and item not in common_polys)):\n",
    "                junk = True\n",
    "                break\n",
    "\n",
    "        if junk is True:\n",
    "            return \"ignore_due_to_junk\"\n",
    "    except:\n",
    "        return \"ignore_due_to_not_in_model\"\n",
    "        \n",
    "    return \"acceptable_after_refinement\""
   ]
  },
  {
   "cell_type": "code",
   "execution_count": 26,
   "metadata": {},
   "outputs": [],
   "source": [
    "# Define KNN, SVC, and RF models\n",
    "\n",
    "def knn(Xtrain,Xtest, ytrain, ytest):\n",
    "    # Number of neighbors 5 seems to work best\n",
    "    n_neighbors = 5\n",
    "\n",
    "    #for weights in ['uniform', 'distance']:\n",
    "    weights = 'uniform'\n",
    "    clf = neighbors.KNeighborsClassifier(n_neighbors, weights=weights)\n",
    "\n",
    "    clf.fit(Xtrain,ytrain)\n",
    "\n",
    "    y_predicted = clf.predict(Xtest)\n",
    "    f1s = metrics(y_predicted,ytest)\n",
    "    #print \"Classifier score (accuracy): \", clf.score(Xtest,ytest)\n",
    "   # return f1s\n",
    "    print(\"LEN X TRAIN {}\".format(str(len(Xtrain))))\n",
    "    print(\"LEN X TESST {}\".format(str(len(Xtest))))\n",
    "    print(\"LEN Y PREDICTED {}\".format(str(len(ytest))))\n",
    "    return {'y_predicted': y_predicted, 'f1s': f1s}\n",
    "\n",
    "\n",
    "def svc(Xtrain, Xtest, ytrain, ytest):\n",
    "    # Set the parameters by cross-validation\n",
    "    tuned_parameters = [{'kernel': ['rbf'], 'gamma': [1e-3, 1e-4],\n",
    "                     'C': [1, 10, 100, 1000]},\n",
    "                    {'kernel': ['linear'], 'C': [1, 10, 100, 1000]}]\n",
    "\n",
    "    scores = ['precision', 'recall']\n",
    "    clf = GridSearchCV(SVC(), tuned_parameters, cv=5,\n",
    "                       scoring='%s_macro' % scores[1])\n",
    "    clf.fit(Xtrain, ytrain)\n",
    "    #print(clf.best_params_)\n",
    "    clf = clf.best_estimator_\n",
    "    y_pred = clf.predict(Xtest)\n",
    "    f1s = metrics(y_pred,ytest)\n",
    "   # return f1s\n",
    "    return {'y_predicted': y_pred, 'f1s': f1s}\n",
    "\n",
    "def RF(Xtrain, Xtest, ytrain, ytest):\n",
    "    param_grid = { \n",
    "        'max_features': ['auto', 'sqrt', 'log2']\n",
    "    }\n",
    "    \n",
    "    clf = RandomForestClassifier(max_depth=None, n_jobs=-1, max_features= 'sqrt' ,n_estimators=100, oob_score = True, random_state=None)\n",
    "    clf = GridSearchCV(RandomForestClassifier(n_estimators=100),\n",
    "                    param_grid=param_grid,\n",
    "                    scoring='f1',\n",
    "                    cv=10)\n",
    "    #clf = RandomForestClassifier(max_depth=None, max_features=3, random_state=None) # Change when using similarity scores\n",
    "    clf.fit(Xtrain, ytrain)\n",
    "    clf = clf.best_estimator_\n",
    "    y_predicted = clf.predict(Xtest)\n",
    "    f1s = metrics(y_predicted,ytest)\n",
    "   # return f1s\n",
    "    return {'y_predicted': y_predicted, 'f1s': f1s}\n",
    "\n",
    "\n",
    "def run_all_models(X, y, results, process_full_document_flag, refined_candidates_only_flag, use_word_vector_flag):\n",
    "    print('Running all classifiers, with %s candidates; %s; %s' % \n",
    "      ('refined' if refined_candidates_only_flag else 'unrefined',\n",
    "       'word vectors' if use_word_vector_flag else 'score vectors',\n",
    "       'full documents' if process_full_document_flag else 'classified sentences'))\n",
    "\n",
    "  #  X, y = get_word_vectors_as_feature(connection, process_full_document_flag, refined_candidates_only_flag, use_word_vector_flag)\n",
    "    \n",
    "    best_model1, max_f1_score1, predictions = run_all_classifiers(X, y)\n",
    "    key = ('fulldoc' if process_full_document_flag else 'classified_sentences') + '_' + ('refined' if refined_candidates_only_flag else 'unrefined') + '_' + ('words' if use_word_vector_flag else 'scores')\n",
    "    results[key] = [best_model1, max_f1_score1]\n",
    "    return predictions"
   ]
  },
  {
   "cell_type": "code",
   "execution_count": 27,
   "metadata": {},
   "outputs": [],
   "source": [
    "# Run all classifiers on a particular type of input\n",
    "def run_all_classifiers(X,y):\n",
    "    print(\"RUNNING THEM ALL NOW LENGTH OF X, y IS {} {}\".format(str(len(X)),str(len(y))))\n",
    "    models = ['K Nearest Neighbor', 'Support Vector', 'Random Forest']\n",
    "    f1_scores = []\n",
    "    X_train, X_test, y_train, y_test = get_training_testing_data(X,y)\n",
    "    print(X_train)\n",
    "    print('K Nearest Neighbor:')\n",
    "    knn_results = knn(X_train, X_test, y_train, y_test)\n",
    "    print(knn_results)\n",
    "    knn_predictions,f1_score1 = knn_results['y_predicted'],knn_results['f1s']\n",
    "    f1_scores.append(f1_score1)\n",
    "    \n",
    "    print('Support Vector:')\n",
    "    svc_results = svc(X_train, X_test, y_train, y_test)\n",
    "    svc_predictions, f1_score2 = svc_results['y_predicted'], svc_results['f1s']\n",
    "    f1_scores.append(f1_score2)\n",
    "    \n",
    "    #print('Multi Layer Perceptron:')\n",
    "    #f1_score3 = MPC(X_train, X_test, y_train, y_test)\n",
    "    #print f1_score3\n",
    "    #f1_scores.append(f1_score3)\n",
    "    \n",
    "    print('Random Forest:')\n",
    "    rf_results = RF(X_train, X_test, y_train, y_test)\n",
    "    rf_predictions, f1_score4 = rf_results['y_predicted'],rf_results['f1s']\n",
    "    f1_scores.append(f1_score4)\n",
    "    max_f1 = max(f1_scores)\n",
    "    max_f1_index_arr = np.where(np.array(f1_scores)==max_f1)\n",
    "\n",
    "    for mf in range(len(max_f1_index_arr[0])):\n",
    "        max_f1_index = max_f1_index_arr[0][mf]\n",
    "        print ('%s achieves the best F1 score of %.3f' % (models[max_f1_index], f1_scores[max_f1_index]))\n",
    "    best_model = models[max_f1_index],f1_scores[max_f1_index]\n",
    "    \n",
    "    return(best_model, \n",
    "           max_f1,\n",
    "           {'knn_pred':knn_predictions,\n",
    "            'svc_pred':svc_predictions,\n",
    "            'rf_pred':rf_predictions})"
   ]
  },
  {
   "cell_type": "raw",
   "metadata": {},
   "source": [
    "def get_coords(words,model):\n",
    "    coords = []\n",
    "    for word in words:\n",
    "        try:\n",
    "            coords.append(model.wv.vocab[word])\n",
    "        except:\n",
    "            coords.append([0])\n",
    "        \n",
    "    return coords\n",
    "\n",
    "def get_similarity_scores_as_features(polymer_candidates, model, frequent_polymers):\n",
    "    from sklearn.metrics.pairwise import cosine_similarity\n",
    "    # Polymers used to generate training data\n",
    "   # frequent_polymers = [\"polystyrene\",\"poly(styrene)\",\"PS\"]\n",
    "\n",
    "    features = {}\n",
    "    Xl = [] # vectors\n",
    "    yl = [] # target (is_poly=0:1?)\n",
    "    ll = [] # labels\n",
    "    \n",
    "   # similarities = {}\n",
    "    for candidate in polymer_candidates:\n",
    "        features[candidate] = []\n",
    "        candidate_vec = model.get_word_vector(candidate).reshape(1, -1)\n",
    "        \n",
    "        try:\n",
    "            for fp in frequent_polymers:\n",
    "                fp_vec = model.get_word_vector(fp).reshape(1, -1)\n",
    "                similarity_score = cosine_similarity(candidate_vec,fp_vec)#round(model.wv.similarity(candidate,fp),2)\n",
    "                features[candidate].append(similarity_score[0][0])\n",
    "\n",
    "            Xl.append(features[candidate])\n",
    "            yl.append(candidate)\n",
    "        except Exception as e:\n",
    "            print(e)\n",
    "            continue\n",
    "            \n",
    "    return Xl"
   ]
  },
  {
   "cell_type": "markdown",
   "metadata": {},
   "source": [
    "**Clustering Setup ** "
   ]
  },
  {
   "cell_type": "code",
   "execution_count": 13,
   "metadata": {},
   "outputs": [],
   "source": [
    "def get_hashes_from_list(list_):\n",
    "    \"\"\"returns dictionary with value 1 from a list. Its purpose is to be used when needing to find if \n",
    "    item is in a list repeatedly as this will get the find operation down to constant time.\"\"\"\n",
    "    return {key: 1 for key in list_}\n",
    "def create_df(candidates, model, ground_truths=None):\n",
    "    # is_{algo} columns are boolean as to whether or not they were predicted by that algorithm. \n",
    "    df = pd.DataFrame(columns=[\"candidate\",\"is_knn\",\"is_svc\",\"is_rf\",\"is_groundtruth\",\"db_scan_clus\",\"predictions\",\"is_refined\"])\n",
    "    \n",
    "    if isinstance(candidates,str):\n",
    "        with open(candidates,'r',encoding='utf-8') as candidates:\n",
    "            for candidate in candidates:\n",
    "                word_and_isgroundtruth = candidate.split(\"|\")\n",
    "                word = word_and_isgroundtruth[0].replace('\"','')\n",
    "                is_refined = refine_candidate(word, model)\n",
    "                is_groundtruth = int(word_and_isgroundtruth[1].replace('\"','').rstrip('\\n'))\n",
    "\n",
    "            # is_groundtruth = 1 if word in ground_truths_hash else 0\n",
    "                df = df.append({\"candidate\":word,\"is_groundtruth\":is_groundtruth,\"db_scan_clus\":None,\"supervised_coords\":[],\"unsupervised_coords\":[],\"is_refined\": is_refined},ignore_index=True)\n",
    "\n",
    "    else:\n",
    "        ground_truths_hashed = get_hashes_from_list(ground_truths)\n",
    "        for candidate in candidates:\n",
    "            is_refined = refine_candidate(candidate,model)\n",
    "            is_groundtruth = candidate.lower() in ground_truths_hashed\n",
    "            df = df.append({\"candidate\":candidate,\"is_groundtruth\":is_groundtruth,\"db_scan_clus\":None,\"supervised_coords\":[],\"unsupervised_coords\":[],\"is_refined\": is_refined},ignore_index=True)\n",
    "\n",
    "    return df"
   ]
  },
  {
   "cell_type": "markdown",
   "metadata": {},
   "source": [
    "<h1> Experiment 1 </h1><br>\n",
    "The first experiment will be to go through the process as defined in the paper utilizing \n",
    "the terms from the 50 documents with the terms frfom the ground_truth file to see how clustering and the classifiers perform.\n",
    "This will use the cosine similaeity scores with the array [\"polystyrene\",\"poly(styrene)\",\"PS\"] as features. "
   ]
  },
  {
   "cell_type": "code",
   "execution_count": 158,
   "metadata": {
    "scrolled": false
   },
   "outputs": [],
   "source": [
    "df_exp1 = fulldoc_df = create_df(fulldoc_candidates,unsupervised_model, ground_truths=ground_truths)\n",
    " #(FULL_CANDIDATES, supervised_model)\n",
    "df_exp1 = df_exp1[df_exp1.is_refined==\"acceptable_after_refinement\"]"
   ]
  },
  {
   "cell_type": "markdown",
   "metadata": {},
   "source": [
    "Next, PHEPE is in the dataset twice, so it will be dropped"
   ]
  },
  {
   "cell_type": "code",
   "execution_count": 159,
   "metadata": {},
   "outputs": [
    {
     "data": {
      "text/html": [
       "<div>\n",
       "<style scoped>\n",
       "    .dataframe tbody tr th:only-of-type {\n",
       "        vertical-align: middle;\n",
       "    }\n",
       "\n",
       "    .dataframe tbody tr th {\n",
       "        vertical-align: top;\n",
       "    }\n",
       "\n",
       "    .dataframe thead th {\n",
       "        text-align: right;\n",
       "    }\n",
       "</style>\n",
       "<table border=\"1\" class=\"dataframe\">\n",
       "  <thead>\n",
       "    <tr style=\"text-align: right;\">\n",
       "      <th></th>\n",
       "      <th>candidate</th>\n",
       "      <th>is_knn</th>\n",
       "      <th>is_svc</th>\n",
       "      <th>is_rf</th>\n",
       "      <th>is_groundtruth</th>\n",
       "      <th>db_scan_clus</th>\n",
       "      <th>predictions</th>\n",
       "      <th>is_refined</th>\n",
       "      <th>supervised_coords</th>\n",
       "      <th>unsupervised_coords</th>\n",
       "    </tr>\n",
       "  </thead>\n",
       "  <tbody>\n",
       "    <tr>\n",
       "      <td>590</td>\n",
       "      <td>PHEPE</td>\n",
       "      <td>NaN</td>\n",
       "      <td>NaN</td>\n",
       "      <td>NaN</td>\n",
       "      <td>True</td>\n",
       "      <td>None</td>\n",
       "      <td>NaN</td>\n",
       "      <td>acceptable_after_refinement</td>\n",
       "      <td>[]</td>\n",
       "      <td>[]</td>\n",
       "    </tr>\n",
       "    <tr>\n",
       "      <td>824</td>\n",
       "      <td>PHEPE</td>\n",
       "      <td>NaN</td>\n",
       "      <td>NaN</td>\n",
       "      <td>NaN</td>\n",
       "      <td>True</td>\n",
       "      <td>None</td>\n",
       "      <td>NaN</td>\n",
       "      <td>acceptable_after_refinement</td>\n",
       "      <td>[]</td>\n",
       "      <td>[]</td>\n",
       "    </tr>\n",
       "  </tbody>\n",
       "</table>\n",
       "</div>"
      ],
      "text/plain": [
       "    candidate is_knn is_svc is_rf is_groundtruth db_scan_clus predictions  \\\n",
       "590     PHEPE    NaN    NaN   NaN           True         None         NaN   \n",
       "824     PHEPE    NaN    NaN   NaN           True         None         NaN   \n",
       "\n",
       "                      is_refined supervised_coords unsupervised_coords  \n",
       "590  acceptable_after_refinement                []                  []  \n",
       "824  acceptable_after_refinement                []                  []  "
      ]
     },
     "execution_count": 159,
     "metadata": {},
     "output_type": "execute_result"
    }
   ],
   "source": [
    "df_exp1[df_exp1.candidate==\"PHEPE\"]"
   ]
  },
  {
   "cell_type": "code",
   "execution_count": 160,
   "metadata": {},
   "outputs": [
    {
     "name": "stderr",
     "output_type": "stream",
     "text": [
      "C:\\Users\\danlg\\Anaconda3\\lib\\site-packages\\pandas\\core\\frame.py:4102: SettingWithCopyWarning: \n",
      "A value is trying to be set on a copy of a slice from a DataFrame\n",
      "\n",
      "See the caveats in the documentation: http://pandas.pydata.org/pandas-docs/stable/user_guide/indexing.html#returning-a-view-versus-a-copy\n",
      "  errors=errors,\n"
     ]
    },
    {
     "data": {
      "text/html": [
       "<div>\n",
       "<style scoped>\n",
       "    .dataframe tbody tr th:only-of-type {\n",
       "        vertical-align: middle;\n",
       "    }\n",
       "\n",
       "    .dataframe tbody tr th {\n",
       "        vertical-align: top;\n",
       "    }\n",
       "\n",
       "    .dataframe thead th {\n",
       "        text-align: right;\n",
       "    }\n",
       "</style>\n",
       "<table border=\"1\" class=\"dataframe\">\n",
       "  <thead>\n",
       "    <tr style=\"text-align: right;\">\n",
       "      <th></th>\n",
       "      <th>candidate</th>\n",
       "      <th>is_knn</th>\n",
       "      <th>is_svc</th>\n",
       "      <th>is_rf</th>\n",
       "      <th>is_groundtruth</th>\n",
       "      <th>db_scan_clus</th>\n",
       "      <th>predictions</th>\n",
       "      <th>is_refined</th>\n",
       "      <th>supervised_coords</th>\n",
       "      <th>unsupervised_coords</th>\n",
       "    </tr>\n",
       "  </thead>\n",
       "  <tbody>\n",
       "    <tr>\n",
       "      <td>590</td>\n",
       "      <td>PHEPE</td>\n",
       "      <td>NaN</td>\n",
       "      <td>NaN</td>\n",
       "      <td>NaN</td>\n",
       "      <td>True</td>\n",
       "      <td>None</td>\n",
       "      <td>NaN</td>\n",
       "      <td>acceptable_after_refinement</td>\n",
       "      <td>[]</td>\n",
       "      <td>[]</td>\n",
       "    </tr>\n",
       "  </tbody>\n",
       "</table>\n",
       "</div>"
      ],
      "text/plain": [
       "    candidate is_knn is_svc is_rf is_groundtruth db_scan_clus predictions  \\\n",
       "590     PHEPE    NaN    NaN   NaN           True         None         NaN   \n",
       "\n",
       "                      is_refined supervised_coords unsupervised_coords  \n",
       "590  acceptable_after_refinement                []                  []  "
      ]
     },
     "execution_count": 160,
     "metadata": {},
     "output_type": "execute_result"
    }
   ],
   "source": [
    "df_exp1.drop(824,inplace=True)\n",
    "df_exp1[df_exp1.candidate==\"PHEPE\"]"
   ]
  },
  {
   "cell_type": "code",
   "execution_count": 161,
   "metadata": {},
   "outputs": [
    {
     "name": "stderr",
     "output_type": "stream",
     "text": [
      "C:\\Users\\danlg\\Anaconda3\\lib\\site-packages\\pandas\\core\\generic.py:5208: SettingWithCopyWarning: \n",
      "A value is trying to be set on a copy of a slice from a DataFrame.\n",
      "Try using .loc[row_indexer,col_indexer] = value instead\n",
      "\n",
      "See the caveats in the documentation: http://pandas.pydata.org/pandas-docs/stable/user_guide/indexing.html#returning-a-view-versus-a-copy\n",
      "  self[name] = value\n"
     ]
    }
   ],
   "source": [
    "candidates = df_exp1.candidate\n",
    "supervised_coords = get_similarity_scores_as_features(candidates, supervised_model,  [\"polystyrene\",\"poly(styrene)\",\"PS\"])\n",
    "unsupervised_coords = get_similarity_scores_as_features(candidates, unsupervised_model,  [\"polystyrene\",\"poly(styrene)\",\"PS\"])\n",
    "df_exp1.supervised_coords = supervised_coords\n",
    "df_exp1.unsupervised_coords = unsupervised_coords"
   ]
  },
  {
   "cell_type": "code",
   "execution_count": 162,
   "metadata": {},
   "outputs": [
    {
     "data": {
      "text/html": [
       "<div>\n",
       "<style scoped>\n",
       "    .dataframe tbody tr th:only-of-type {\n",
       "        vertical-align: middle;\n",
       "    }\n",
       "\n",
       "    .dataframe tbody tr th {\n",
       "        vertical-align: top;\n",
       "    }\n",
       "\n",
       "    .dataframe thead th {\n",
       "        text-align: right;\n",
       "    }\n",
       "</style>\n",
       "<table border=\"1\" class=\"dataframe\">\n",
       "  <thead>\n",
       "    <tr style=\"text-align: right;\">\n",
       "      <th></th>\n",
       "      <th>candidate</th>\n",
       "      <th>is_knn</th>\n",
       "      <th>is_svc</th>\n",
       "      <th>is_rf</th>\n",
       "      <th>is_groundtruth</th>\n",
       "      <th>db_scan_clus</th>\n",
       "      <th>predictions</th>\n",
       "      <th>is_refined</th>\n",
       "      <th>supervised_coords</th>\n",
       "      <th>unsupervised_coords</th>\n",
       "    </tr>\n",
       "  </thead>\n",
       "  <tbody>\n",
       "    <tr>\n",
       "      <td>0</td>\n",
       "      <td>3-glycidoxypropyltrimethoxysilane</td>\n",
       "      <td>NaN</td>\n",
       "      <td>NaN</td>\n",
       "      <td>NaN</td>\n",
       "      <td>False</td>\n",
       "      <td>None</td>\n",
       "      <td>NaN</td>\n",
       "      <td>acceptable_after_refinement</td>\n",
       "      <td>[0.0, 0.0, 0.0]</td>\n",
       "      <td>[0.45265278, 0.45082575, 0.30118904]</td>\n",
       "    </tr>\n",
       "    <tr>\n",
       "      <td>1</td>\n",
       "      <td>Mn ∼ 82 700 g/mol, Mw/Mn ∼ 1.09</td>\n",
       "      <td>NaN</td>\n",
       "      <td>NaN</td>\n",
       "      <td>NaN</td>\n",
       "      <td>False</td>\n",
       "      <td>None</td>\n",
       "      <td>NaN</td>\n",
       "      <td>acceptable_after_refinement</td>\n",
       "      <td>[0.0, 0.0, 0.0]</td>\n",
       "      <td>[0.4465301, 0.5108536, 0.4467344]</td>\n",
       "    </tr>\n",
       "    <tr>\n",
       "      <td>2</td>\n",
       "      <td>dithranol</td>\n",
       "      <td>NaN</td>\n",
       "      <td>NaN</td>\n",
       "      <td>NaN</td>\n",
       "      <td>False</td>\n",
       "      <td>None</td>\n",
       "      <td>NaN</td>\n",
       "      <td>acceptable_after_refinement</td>\n",
       "      <td>[-0.4039097, -0.39058164, -0.38313222]</td>\n",
       "      <td>[0.37253398, 0.34146354, 0.34579936]</td>\n",
       "    </tr>\n",
       "    <tr>\n",
       "      <td>3</td>\n",
       "      <td>tackiness</td>\n",
       "      <td>NaN</td>\n",
       "      <td>NaN</td>\n",
       "      <td>NaN</td>\n",
       "      <td>False</td>\n",
       "      <td>None</td>\n",
       "      <td>NaN</td>\n",
       "      <td>acceptable_after_refinement</td>\n",
       "      <td>[0.0, 0.0, 0.0]</td>\n",
       "      <td>[0.2911657, 0.23948954, 0.26094297]</td>\n",
       "    </tr>\n",
       "    <tr>\n",
       "      <td>4</td>\n",
       "      <td>PBDTC-TT1:PC70BM</td>\n",
       "      <td>NaN</td>\n",
       "      <td>NaN</td>\n",
       "      <td>NaN</td>\n",
       "      <td>False</td>\n",
       "      <td>None</td>\n",
       "      <td>NaN</td>\n",
       "      <td>acceptable_after_refinement</td>\n",
       "      <td>[0.0, 0.0, 0.0]</td>\n",
       "      <td>[0.2355428, 0.22966152, 0.31385368]</td>\n",
       "    </tr>\n",
       "    <tr>\n",
       "      <td>...</td>\n",
       "      <td>...</td>\n",
       "      <td>...</td>\n",
       "      <td>...</td>\n",
       "      <td>...</td>\n",
       "      <td>...</td>\n",
       "      <td>...</td>\n",
       "      <td>...</td>\n",
       "      <td>...</td>\n",
       "      <td>...</td>\n",
       "      <td>...</td>\n",
       "    </tr>\n",
       "    <tr>\n",
       "      <td>942</td>\n",
       "      <td>core−shell</td>\n",
       "      <td>NaN</td>\n",
       "      <td>NaN</td>\n",
       "      <td>NaN</td>\n",
       "      <td>False</td>\n",
       "      <td>None</td>\n",
       "      <td>NaN</td>\n",
       "      <td>acceptable_after_refinement</td>\n",
       "      <td>[0.0, 0.0, 0.0]</td>\n",
       "      <td>[0.32086682, 0.30641273, 0.28275567]</td>\n",
       "    </tr>\n",
       "    <tr>\n",
       "      <td>943</td>\n",
       "      <td>dispersity</td>\n",
       "      <td>NaN</td>\n",
       "      <td>NaN</td>\n",
       "      <td>NaN</td>\n",
       "      <td>False</td>\n",
       "      <td>None</td>\n",
       "      <td>NaN</td>\n",
       "      <td>acceptable_after_refinement</td>\n",
       "      <td>[0.8178803, 0.81941754, 0.78509396]</td>\n",
       "      <td>[0.36252248, 0.33664176, 0.3656337]</td>\n",
       "    </tr>\n",
       "    <tr>\n",
       "      <td>944</td>\n",
       "      <td>PCHA</td>\n",
       "      <td>NaN</td>\n",
       "      <td>NaN</td>\n",
       "      <td>NaN</td>\n",
       "      <td>True</td>\n",
       "      <td>None</td>\n",
       "      <td>NaN</td>\n",
       "      <td>acceptable_after_refinement</td>\n",
       "      <td>[0.0, 0.0, 0.0]</td>\n",
       "      <td>[0.36685726, 0.34059206, 0.50253576]</td>\n",
       "    </tr>\n",
       "    <tr>\n",
       "      <td>945</td>\n",
       "      <td>HEPE</td>\n",
       "      <td>NaN</td>\n",
       "      <td>NaN</td>\n",
       "      <td>NaN</td>\n",
       "      <td>False</td>\n",
       "      <td>None</td>\n",
       "      <td>NaN</td>\n",
       "      <td>acceptable_after_refinement</td>\n",
       "      <td>[0.0, 0.0, 0.0]</td>\n",
       "      <td>[0.32733363, 0.29881915, 0.29032156]</td>\n",
       "    </tr>\n",
       "    <tr>\n",
       "      <td>946</td>\n",
       "      <td>octyl</td>\n",
       "      <td>NaN</td>\n",
       "      <td>NaN</td>\n",
       "      <td>NaN</td>\n",
       "      <td>False</td>\n",
       "      <td>None</td>\n",
       "      <td>NaN</td>\n",
       "      <td>acceptable_after_refinement</td>\n",
       "      <td>[-0.2910033, -0.30901772, -0.30139527]</td>\n",
       "      <td>[0.48608217, 0.5004233, 0.4713125]</td>\n",
       "    </tr>\n",
       "  </tbody>\n",
       "</table>\n",
       "<p>923 rows × 10 columns</p>\n",
       "</div>"
      ],
      "text/plain": [
       "                             candidate is_knn is_svc is_rf is_groundtruth  \\\n",
       "0    3-glycidoxypropyltrimethoxysilane    NaN    NaN   NaN          False   \n",
       "1      Mn ∼ 82 700 g/mol, Mw/Mn ∼ 1.09    NaN    NaN   NaN          False   \n",
       "2                            dithranol    NaN    NaN   NaN          False   \n",
       "3                            tackiness    NaN    NaN   NaN          False   \n",
       "4                     PBDTC-TT1:PC70BM    NaN    NaN   NaN          False   \n",
       "..                                 ...    ...    ...   ...            ...   \n",
       "942                         core−shell    NaN    NaN   NaN          False   \n",
       "943                         dispersity    NaN    NaN   NaN          False   \n",
       "944                               PCHA    NaN    NaN   NaN           True   \n",
       "945                               HEPE    NaN    NaN   NaN          False   \n",
       "946                              octyl    NaN    NaN   NaN          False   \n",
       "\n",
       "    db_scan_clus predictions                   is_refined  \\\n",
       "0           None         NaN  acceptable_after_refinement   \n",
       "1           None         NaN  acceptable_after_refinement   \n",
       "2           None         NaN  acceptable_after_refinement   \n",
       "3           None         NaN  acceptable_after_refinement   \n",
       "4           None         NaN  acceptable_after_refinement   \n",
       "..           ...         ...                          ...   \n",
       "942         None         NaN  acceptable_after_refinement   \n",
       "943         None         NaN  acceptable_after_refinement   \n",
       "944         None         NaN  acceptable_after_refinement   \n",
       "945         None         NaN  acceptable_after_refinement   \n",
       "946         None         NaN  acceptable_after_refinement   \n",
       "\n",
       "                          supervised_coords  \\\n",
       "0                           [0.0, 0.0, 0.0]   \n",
       "1                           [0.0, 0.0, 0.0]   \n",
       "2    [-0.4039097, -0.39058164, -0.38313222]   \n",
       "3                           [0.0, 0.0, 0.0]   \n",
       "4                           [0.0, 0.0, 0.0]   \n",
       "..                                      ...   \n",
       "942                         [0.0, 0.0, 0.0]   \n",
       "943     [0.8178803, 0.81941754, 0.78509396]   \n",
       "944                         [0.0, 0.0, 0.0]   \n",
       "945                         [0.0, 0.0, 0.0]   \n",
       "946  [-0.2910033, -0.30901772, -0.30139527]   \n",
       "\n",
       "                      unsupervised_coords  \n",
       "0    [0.45265278, 0.45082575, 0.30118904]  \n",
       "1       [0.4465301, 0.5108536, 0.4467344]  \n",
       "2    [0.37253398, 0.34146354, 0.34579936]  \n",
       "3     [0.2911657, 0.23948954, 0.26094297]  \n",
       "4     [0.2355428, 0.22966152, 0.31385368]  \n",
       "..                                    ...  \n",
       "942  [0.32086682, 0.30641273, 0.28275567]  \n",
       "943   [0.36252248, 0.33664176, 0.3656337]  \n",
       "944  [0.36685726, 0.34059206, 0.50253576]  \n",
       "945  [0.32733363, 0.29881915, 0.29032156]  \n",
       "946    [0.48608217, 0.5004233, 0.4713125]  \n",
       "\n",
       "[923 rows x 10 columns]"
      ]
     },
     "execution_count": 162,
     "metadata": {},
     "output_type": "execute_result"
    }
   ],
   "source": [
    "df_exp1"
   ]
  },
  {
   "cell_type": "code",
   "execution_count": 20,
   "metadata": {},
   "outputs": [],
   "source": [
    "def get_X_from_df(series_col):\n",
    "    arr = []\n",
    "    for coords in series_col:\n",
    "        arr.append([float(coord) for coord in coords])\n",
    "        \n",
    "    return arr"
   ]
  },
  {
   "cell_type": "markdown",
   "metadata": {},
   "source": [
    "Read more about the algorithms...\n",
    "https://scikit-learn.org/stable/modules/clustering.html#optics\n",
    "https://scikit-learn.org/stable/modules/generated/sklearn.cluster.OPTICS.html"
   ]
  },
  {
   "cell_type": "code",
   "execution_count": 69,
   "metadata": {},
   "outputs": [],
   "source": [
    "X = np.array(get_X_from_df(df_exp1.supervised_coords))\n",
    "X = pd.DataFrame(X)\n",
    "y = df_exp1.is_groundtruth.astype('int')\n"
   ]
  },
  {
   "cell_type": "markdown",
   "metadata": {},
   "source": [
    "Coordinates plotting\n"
   ]
  },
  {
   "cell_type": "code",
   "execution_count": 126,
   "metadata": {
    "scrolled": false
   },
   "outputs": [
    {
     "ename": "NameError",
     "evalue": "name 'clus_df' is not defined",
     "output_type": "error",
     "traceback": [
      "\u001b[1;31m---------------------------------------------------------------------------\u001b[0m",
      "\u001b[1;31mNameError\u001b[0m                                 Traceback (most recent call last)",
      "\u001b[1;32m<ipython-input-126-904ffacf42bd>\u001b[0m in \u001b[0;36m<module>\u001b[1;34m\u001b[0m\n\u001b[0;32m     25\u001b[0m \u001b[1;33m\u001b[0m\u001b[0m\n\u001b[0;32m     26\u001b[0m \u001b[0mcolors\u001b[0m \u001b[1;33m=\u001b[0m \u001b[1;33m{\u001b[0m\u001b[1;33m-\u001b[0m\u001b[1;36m1\u001b[0m\u001b[1;33m:\u001b[0m\u001b[1;34m'blue'\u001b[0m\u001b[1;33m,\u001b[0m \u001b[1;36m0\u001b[0m\u001b[1;33m:\u001b[0m \u001b[1;34m'red'\u001b[0m\u001b[1;33m,\u001b[0m \u001b[1;36m1\u001b[0m\u001b[1;33m:\u001b[0m \u001b[1;34m'green'\u001b[0m\u001b[1;33m,\u001b[0m \u001b[1;36m2\u001b[0m\u001b[1;33m:\u001b[0m \u001b[1;34m'cyan'\u001b[0m\u001b[1;33m,\u001b[0m \u001b[1;36m3\u001b[0m\u001b[1;33m:\u001b[0m \u001b[1;34m'black'\u001b[0m\u001b[1;33m,\u001b[0m \u001b[1;36m4\u001b[0m\u001b[1;33m:\u001b[0m \u001b[1;34m'magenta'\u001b[0m\u001b[1;33m}\u001b[0m\u001b[1;33m\u001b[0m\u001b[1;33m\u001b[0m\u001b[0m\n\u001b[1;32m---> 27\u001b[1;33m \u001b[0mtsne_plot_candidates\u001b[0m\u001b[1;33m(\u001b[0m\u001b[0mmodel\u001b[0m\u001b[1;33m,\u001b[0m \u001b[0mclus_df\u001b[0m\u001b[1;33m,\u001b[0m\u001b[0mcolors\u001b[0m\u001b[1;33m,\u001b[0m\u001b[1;34m\"db_scan_labels\"\u001b[0m\u001b[1;33m)\u001b[0m\u001b[1;33m\u001b[0m\u001b[1;33m\u001b[0m\u001b[0m\n\u001b[0m",
      "\u001b[1;31mNameError\u001b[0m: name 'clus_df' is not defined"
     ]
    }
   ],
   "source": [
    "def tsne_plot_candidates(model, df,colors, clus_labels_name, outfile = \"./clustering_coords.png\"):\n",
    "\n",
    "\n",
    "    tsne_model = TSNE(perplexity=5, n_components=2, init='pca', n_iter=250, random_state=23)\n",
    "    all_values = tsne_model.fit_transform(df)\n",
    "    \n",
    "    x0 = []\n",
    "    y0 = []\n",
    "\n",
    "    for value in all_values:\n",
    "        x0.append(value[0])\n",
    "        y0.append(value[1])\n",
    "        \n",
    "    plt.figure(figsize=(20, 20)) \n",
    "        \n",
    "    print(\"Beginning plotting..\")\n",
    "    for i in range(len(x0)):\n",
    "        plt.scatter(x0[i],y0[i], color=colors[df.loc[i,clus_labels_name]])\n",
    "\n",
    "        \n",
    "    plt.legend(colors.keys(), loc=\"upper left\")\n",
    "    plt.savefig(outfile, format=\"png\")\n",
    "    plt.show()\n",
    "    plt.close()\n",
    "\n",
    "colors = {-1:'blue', 0: 'red', 1: 'green', 2: 'cyan', 3: 'black', 4: 'magenta'}\n",
    "tsne_plot_candidates(model, clus_df,colors,\"db_scan_labels\")\n"
   ]
  },
  {
   "cell_type": "code",
   "execution_count": 111,
   "metadata": {},
   "outputs": [
    {
     "name": "stdout",
     "output_type": "stream",
     "text": [
      "Beginning plotting..\n",
      "{0: 'red', 1: 'black'}\n"
     ]
    },
    {
     "data": {
      "image/png": "[encoded data removed]",
      "text/plain": [
       "<Figure size 1440x1440 with 1 Axes>"
      ]
     },
     "metadata": {
      "needs_background": "light"
     },
     "output_type": "display_data"
    }
   ],
   "source": [
    "colors = {0: 'red', 1: 'black'}\n",
    "tsne_plot_candidates(model, clus_df,colors,\"agg_labels\")"
   ]
  },
  {
   "cell_type": "markdown",
   "metadata": {},
   "source": [
    "## Run all models eight times\n",
    "\n",
    "Run each of the classifiers for the following 2 x 2 x 2 = 8 configurations:\n",
    "1. (all docs vs. fasttext-selected)\n",
    "1. (refined vs. unrefined)\n",
    "1. (word vector vs. score vectors)"
   ]
  },
  {
   "cell_type": "code",
   "execution_count": 163,
   "metadata": {},
   "outputs": [],
   "source": [
    "# Keep a list of best models and best F scores\n",
    "results = {}"
   ]
  },
  {
   "cell_type": "markdown",
   "metadata": {},
   "source": [
    "## Found error problem\n",
    "The error in the cell below is symbols that cannot be detected by unicode\n",
    "for ex... 700â€‰000 is one where the middle is replaces with \\u and it is re-intepreted to '700\\u2009000'\n",
    "This can be found in the excel sheet by searching 'SV-N-NA' and then moving over 2 cells. \n",
    "\n",
    "Another example is Mp = 1050âˆ’1â€‰870â€‰000 g/mol\n",
    "\n",
    "We need to figure out where file 'classifier_pipeline_candidates.csv' was created to potentially see how this came to be.\n",
    "\n",
    "In the meantime, a temp try except fix can be created but MUST be labeled in order for it to eventually be removed.\n",
    "\n",
    "<br>\n"
   ]
  },
  {
   "cell_type": "markdown",
   "metadata": {},
   "source": [
    "The results from running the models when trying to reproduce the original experiment were as follows. The data model from polymers.TEST file with the fasttext supervised training. \n",
    "Then, the refined model was run through the classification process where KNN, SVC with gridsearch, and RF with gridsearch were used to predict the candidate's valdiity. The results were as follows when doing this method...\n",
    "    "
   ]
  },
  {
   "cell_type": "code",
   "execution_count": 31,
   "metadata": {
    "scrolled": false
   },
   "outputs": [],
   "source": [
    "# process_full_document_flag   = True\n",
    "# refined_candidates_only_flag = False\n",
    "# use_word_vector_flag         = False\n",
    "\n",
    "# predictions = run_all_models(X,y, results, process_full_document_flag, refined_candidates_only_flag, use_word_vector_flag)\n",
    "# predictions"
   ]
  },
  {
   "cell_type": "markdown",
   "metadata": {},
   "source": [
    "<h1>Experiment 1 part 2: unsupervised word vectors</h1>"
   ]
  },
  {
   "cell_type": "code",
   "execution_count": 164,
   "metadata": {},
   "outputs": [
    {
     "name": "stdout",
     "output_type": "stream",
     "text": [
      "(923, 3) (923,)\n"
     ]
    }
   ],
   "source": [
    "X = np.array(get_X_from_df(df_exp1.unsupervised_coords))\n",
    "X = pd.DataFrame(X)\n",
    "y = df_exp1.is_groundtruth.astype('int')\n",
    "\n",
    "print(X.shape,y.shape)"
   ]
  },
  {
   "cell_type": "code",
   "execution_count": 390,
   "metadata": {},
   "outputs": [],
   "source": [
    "# colors = {0: 'red', 1: 'black'}\n",
    "# tsne_plot_candidates(unsupervised_model, [df_exp1.agg_labels],colors,\"agg_labels\")"
   ]
  },
  {
   "cell_type": "code",
   "execution_count": 165,
   "metadata": {
    "scrolled": false
   },
   "outputs": [
    {
     "name": "stdout",
     "output_type": "stream",
     "text": [
      "Running all classifiers, with unrefined candidates; word vectors; classified sentences\n",
      "RUNNING THEM ALL NOW LENGTH OF X, y IS 923 923\n",
      "[[0.34521905 0.35713851 0.07972284]\n",
      " [0.36023507 0.44907817 0.32709286]\n",
      " [0.30548009 0.22161408 0.36065477]\n",
      " ...\n",
      " [0.15847816 0.1248671  0.16890882]\n",
      " [0.14110993 0.20973969 0.38368177]\n",
      " [0.4769364  0.40396333 0.29259655]]\n",
      "K Nearest Neighbor:\n",
      "    Test points:     93\n",
      "    True positives:  1\n",
      "    False positive:  5\n",
      "    True negatives:  71\n",
      "    False negatives: 16\n",
      "    Precision:       0.167\n",
      "    Recall:          0.059\n",
      "    F-1 score:       0.087\n",
      "LEN X TRAIN 830\n",
      "LEN X TESST 93\n",
      "LEN Y PREDICTED 93\n",
      "{'y_predicted': array([0, 0, 0, 0, 1, 0, 0, 0, 0, 0, 0, 0, 0, 0, 0, 0, 0, 0, 0, 0, 0, 0,\n",
      "       0, 0, 0, 0, 0, 0, 0, 0, 0, 0, 1, 0, 0, 0, 0, 0, 1, 0, 0, 0, 0, 0,\n",
      "       0, 0, 0, 0, 0, 0, 0, 1, 0, 0, 0, 0, 0, 0, 0, 0, 0, 0, 0, 0, 0, 0,\n",
      "       0, 0, 0, 0, 0, 0, 0, 0, 0, 0, 0, 0, 0, 1, 0, 1, 0, 0, 0, 0, 0, 0,\n",
      "       0, 0, 0, 0, 0]), 'f1s': 0.08695652173913043}\n",
      "Support Vector:\n",
      "    Test points:     93\n",
      "    True positives:  0\n",
      "    False positive:  0\n",
      "    True negatives:  76\n",
      "    False negatives: 17\n",
      "    Precision:       0.000\n",
      "    Recall:          1.000\n",
      "    F-1 score:       -1.000\n",
      "Random Forest:\n",
      "    Test points:     93\n",
      "    True positives:  2\n",
      "    False positive:  5\n",
      "    True negatives:  71\n",
      "    False negatives: 15\n",
      "    Precision:       0.286\n",
      "    Recall:          0.118\n",
      "    F-1 score:       0.167\n",
      "Random Forest achieves the best F1 score of 0.167\n"
     ]
    },
    {
     "data": {
      "text/plain": [
       "{'knn_pred': array([0, 0, 0, 0, 1, 0, 0, 0, 0, 0, 0, 0, 0, 0, 0, 0, 0, 0, 0, 0, 0, 0,\n",
       "        0, 0, 0, 0, 0, 0, 0, 0, 0, 0, 1, 0, 0, 0, 0, 0, 1, 0, 0, 0, 0, 0,\n",
       "        0, 0, 0, 0, 0, 0, 0, 1, 0, 0, 0, 0, 0, 0, 0, 0, 0, 0, 0, 0, 0, 0,\n",
       "        0, 0, 0, 0, 0, 0, 0, 0, 0, 0, 0, 0, 0, 1, 0, 1, 0, 0, 0, 0, 0, 0,\n",
       "        0, 0, 0, 0, 0]),\n",
       " 'svc_pred': array([0, 0, 0, 0, 0, 0, 0, 0, 0, 0, 0, 0, 0, 0, 0, 0, 0, 0, 0, 0, 0, 0,\n",
       "        0, 0, 0, 0, 0, 0, 0, 0, 0, 0, 0, 0, 0, 0, 0, 0, 0, 0, 0, 0, 0, 0,\n",
       "        0, 0, 0, 0, 0, 0, 0, 0, 0, 0, 0, 0, 0, 0, 0, 0, 0, 0, 0, 0, 0, 0,\n",
       "        0, 0, 0, 0, 0, 0, 0, 0, 0, 0, 0, 0, 0, 0, 0, 0, 0, 0, 0, 0, 0, 0,\n",
       "        0, 0, 0, 0, 0]),\n",
       " 'rf_pred': array([0, 0, 0, 0, 1, 0, 0, 0, 0, 0, 0, 0, 0, 0, 0, 0, 0, 0, 0, 0, 0, 0,\n",
       "        0, 0, 0, 0, 0, 1, 0, 0, 0, 0, 1, 0, 0, 0, 0, 0, 1, 0, 0, 0, 0, 0,\n",
       "        0, 0, 0, 0, 0, 0, 0, 1, 0, 0, 1, 0, 0, 0, 0, 0, 0, 0, 0, 0, 0, 0,\n",
       "        0, 0, 0, 0, 0, 0, 0, 0, 0, 0, 0, 0, 0, 1, 0, 0, 0, 0, 0, 0, 0, 0,\n",
       "        0, 0, 0, 0, 0])}"
      ]
     },
     "execution_count": 165,
     "metadata": {},
     "output_type": "execute_result"
    }
   ],
   "source": [
    "process_full_document_flag   = False\n",
    "refined_candidates_only_flag = False\n",
    "use_word_vector_flag         = True\n",
    "\n",
    "\n",
    "run_all_models(X, y, results, process_full_document_flag, refined_candidates_only_flag, use_word_vector_flag)"
   ]
  },
  {
   "cell_type": "markdown",
   "metadata": {},
   "source": [
    "From the above, the unsupervised feature vectors that were taken from the entire set \n",
    "appear to have performed better in classification than the fasttext supervised\n",
    "feature vectors taken from the 50 documents in every classifier. The KNN \n",
    "classifier stood out as the best performing one consistently in the above steps that try \n",
    "to reproduce the original research results. \n",
    "\n",
    "Below, we will create a gridsearch KNN, and then will check to see if probability cutoffs help improve the score"
   ]
  },
  {
   "cell_type": "code",
   "execution_count": 166,
   "metadata": {},
   "outputs": [
    {
     "name": "stdout",
     "output_type": "stream",
     "text": [
      "Fitting 3 folds for each of 28 candidates, totalling 84 fits\n"
     ]
    },
    {
     "name": "stderr",
     "output_type": "stream",
     "text": [
      "[Parallel(n_jobs=-1)]: Using backend LokyBackend with 12 concurrent workers.\n",
      "[Parallel(n_jobs=-1)]: Done  26 tasks      | elapsed:    3.3s\n",
      "[Parallel(n_jobs=-1)]: Done  61 out of  84 | elapsed:    3.4s remaining:    1.2s\n",
      "[Parallel(n_jobs=-1)]: Done  84 out of  84 | elapsed:    3.4s finished\n"
     ]
    }
   ],
   "source": [
    "from sklearn.metrics import f1_score\n",
    "from sklearn.metrics import recall_score\n",
    "from sklearn.metrics import precision_score\n",
    "from sklearn.model_selection import train_test_split\n",
    "\n",
    "def knn_optimize(X_train,X_test,y_train,y_test):\n",
    "    grid_params = {\n",
    "        'n_neighbors': [3,5,7,9,11,13,15],\n",
    "        'weights': ['uniform','distance'],\n",
    "        'metric': ['euclidean','manhattan']\n",
    "    }\n",
    "    gs = GridSearchCV(\n",
    "    neighbors.KNeighborsClassifier(),\n",
    "    grid_params,\n",
    "    verbose=1,\n",
    "    cv=3,\n",
    "    n_jobs=-1)\n",
    "    \n",
    "    gs_results = gs.fit(X_train,y_train)\n",
    "    \n",
    "    knn_cf = neighbors.KNeighborsClassifier(**gs_results.best_params_)\n",
    "    knn_cf.fit(X_train,y_train)\n",
    "    knn_pred_proba = knn_cf.predict_proba(X_test)\n",
    "    knn_pred = knn_cf.predict(X_test)\n",
    "    \n",
    "    return gs_results,knn_pred_proba,knn_pred\n",
    "\n",
    "def prob_optimize(y_pred_prob,y_test, cutoffs):\n",
    "    \n",
    "    f1_score_ls = []\n",
    "    recall_ls = []\n",
    "    precision_ls = []\n",
    "    \n",
    "    for cutoff in cutoffs:\n",
    "        cutoff_pred = [1 if y[1] >= cutoff else 0 for y in y_pred_prob]\n",
    "        f1_score_ls.append(f1_score(y_test,cutoff_pred))\n",
    "        recall_ls.append(recall_score(y_test,cutoff_pred))\n",
    "        precision_ls.append(precision_score(y_test,cutoff_pred))\n",
    "        \n",
    "    return {'f1_score':f1_score_ls,\n",
    "           'recall': recall_ls,\n",
    "           'precision': precision_ls}\n",
    "\n",
    "\n",
    "\n",
    "X_train, X_test, y_train, y_test = train_test_split(X, y, test_size=0.2, random_state=42)\n",
    "knn_gs, knn_pred_proba, knn_pred = knn_optimize(X_train,X_test,y_train,y_test)\n",
    "\n",
    "cutoffs = [0.3,0.4,0.5,0.6,0.7,0.8]\n",
    "cutoff_scores = prob_optimize(knn_pred_proba,y_test,cutoffs)"
   ]
  },
  {
   "cell_type": "code",
   "execution_count": 167,
   "metadata": {
    "scrolled": false
   },
   "outputs": [
    {
     "data": {
      "text/plain": [
       "<matplotlib.legend.Legend at 0x2961adc8ec8>"
      ]
     },
     "execution_count": 167,
     "metadata": {},
     "output_type": "execute_result"
    },
    {
     "data": {
      "image/png": "[encoded data removed]",
      "text/plain": [
       "<Figure size 432x288 with 1 Axes>"
      ]
     },
     "metadata": {
      "needs_background": "light"
     },
     "output_type": "display_data"
    }
   ],
   "source": [
    "plt.plot(cutoffs,cutoff_scores['f1_score'],label=\"f1_score\")\n",
    "plt.plot(cutoffs,cutoff_scores['recall'],label=\"recall\")\n",
    "plt.plot(cutoffs,cutoff_scores['precision'],label=\"precision\")\n",
    "plt.legend(loc=\"upper left\")"
   ]
  },
  {
   "cell_type": "markdown",
   "metadata": {},
   "source": [
    "From the above, it can be seen that a probability cutoff of 0.3 yields the best results. We also see a drastic improvement in using a test size of .2 compared to .1 ."
   ]
  },
  {
   "cell_type": "markdown",
   "metadata": {},
   "source": [
    "<h1>Next 11/3/2020 </h1>, take all candidates from here \\evaluation\\candidates\\listformat cluster them, (100 docs)\n",
    "id acronyms, and classify within that dataset. Try to look at cluster that contains acronym 'PS' .\n",
    "\n",
    "Also, KNN AUC (for probability levels of it being a groundtruth)\n",
    "\n",
    "Also, next 11/10/20, add the other acronyms from https://github.com/rtchoua/WordEmbeddingNER/blob/master/2_word_embedding_model1_gensim.ipynb and find their clusters as well"
   ]
  },
  {
   "cell_type": "code",
   "execution_count": 34,
   "metadata": {},
   "outputs": [],
   "source": [
    "\n",
    "# def get_cluster_homogeneity(labels,words,ground_truths_hash):\n",
    "#     cluster_frequency = Counter(labels)\n",
    "#     ground_truths_in_clus = {k: 0 for k in labels}\n",
    "    \n",
    "#     for ix in range(0,len(words)):\n",
    "#         candidate = words[ix]\n",
    "#         cluster_label = labels[ix]\n",
    "#         if candidate in ground_truths_hash:\n",
    "#             ground_truths_in_clus[cluster_label] += 1\n",
    "            \n",
    "#     return ground_truths_in_clus, cluster_frequency\n",
    "\n",
    "def get_homogeneity_proportion(ground_truths_in_clus, cluster_frequency):\n",
    "    return {k: ground_truths_in_clus[k]/cluster_frequency[k] for k in list(cluster_frequency)}"
   ]
  },
  {
   "cell_type": "code",
   "execution_count": 35,
   "metadata": {},
   "outputs": [],
   "source": [
    "from sklearn.cluster import DBSCAN, AgglomerativeClustering, OPTICS, KMeans\n",
    "\n",
    "def run_dbscan(X):\n",
    "    clustering = DBSCAN().fit(X)\n",
    "    return clustering.labels_\n",
    "    \n",
    "def run_kmeans(X,params):\n",
    "    clustering = KMeans(**params).fit(X)\n",
    "    return clustering.labels_\n",
    "\n",
    "def run_optics(X,args):\n",
    "    optics = OPTICS(**args).fit(X)\n",
    "    return optics.labels_\n",
    "\n",
    "def run_agg_clustering(X,args):\n",
    "    clustering = AgglomerativeClustering(**args).fit(X)\n",
    "    return clustering.labels_\n",
    "\n"
   ]
  },
  {
   "cell_type": "markdown",
   "metadata": {},
   "source": [
    "Lets ensure we focus only on refined candidaes, with value \"acceptable_after_refinement\""
   ]
  },
  {
   "cell_type": "code",
   "execution_count": 168,
   "metadata": {},
   "outputs": [
    {
     "data": {
      "text/plain": [
       "acceptable_after_refinement    923\n",
       "Name: is_refined, dtype: int64"
      ]
     },
     "execution_count": 168,
     "metadata": {},
     "output_type": "execute_result"
    }
   ],
   "source": [
    "fulldoc_df = df_exp1.copy()#create_df(fulldoc_candidates,model=unsupervised_model,ground_truths=ground_truths)\n",
    "unsupervised_coords = get_similarity_scores_as_features(fulldoc_df.candidate, unsupervised_model,  [\"polystyrene\",\"poly(styrene)\",\"PS\"])\n",
    "fulldoc_df.unsupervised_coords = unsupervised_coords\n",
    "\n",
    "fulldoc_df.is_refined.value_counts()"
   ]
  },
  {
   "cell_type": "code",
   "execution_count": 169,
   "metadata": {},
   "outputs": [
    {
     "data": {
      "text/plain": [
       "acceptable_after_refinement    923\n",
       "Name: is_refined, dtype: int64"
      ]
     },
     "execution_count": 169,
     "metadata": {},
     "output_type": "execute_result"
    }
   ],
   "source": [
    "fulldoc_df = fulldoc_df[fulldoc_df.is_refined==\"acceptable_after_refinement\"]\n",
    "#fulldoc_df = fulldoc_df.reindex(range(len(fulldoc_df)))\n",
    "fulldoc_df.index = pd.RangeIndex(start=0,stop=len(fulldoc_df),step=1)\n",
    "\n",
    "fulldoc_df.is_refined.value_counts()"
   ]
  },
  {
   "cell_type": "code",
   "execution_count": 170,
   "metadata": {},
   "outputs": [],
   "source": [
    "X = np.array(get_X_from_df(fulldoc_df.unsupervised_coords))\n",
    "X = pd.DataFrame(X)"
   ]
  },
  {
   "cell_type": "markdown",
   "metadata": {},
   "source": [
    "Before running clustering, let's define the logic needed\n",
    "to see which cluster \"PS\" is in, and see if this cluster is predominantly acronyms.<br>\n",
    "Additionally, we will create a function that writes to 3 files. The first file will contain the input parameters to the algorithm. The 2nd file will contain the statistics for homogeneity,\n",
    "and the third file will contain all the polymers that were found in the same cluster as \"PS\". Also, draw Silhouette curve for the clusters. We will be focusing on Agglomerative going forward.<br><br>https://github.com/rtchoua/WordEmbeddingNER/blob/master/2_word_embedding_model1_gensim.ipynb\n",
    "PMMA\n",
    "PEO\n",
    "https://docs.google.com/document/d/1bg1gcx_V1Ze2mYY3n1GQN2qb4neBKypYgazUreKfa68/edit\n",
    "Snorkel\n"
   ]
  },
  {
   "cell_type": "code",
   "execution_count": 171,
   "metadata": {},
   "outputs": [],
   "source": [
    "import json\n",
    "\n",
    "def find_acronyms(df, labels, acronyms):\n",
    "    \"\"\"returns the clusters acronyms are in, as well as all the candidates that were labeled with this cluster\"\"\"\n",
    "    candidates_in_clus = []\n",
    "    acronym_clusters = []\n",
    "    df[\"clus_labels\"] = labels\n",
    "\n",
    "    acronym_clus = []\n",
    "    for acronym in acronyms:\n",
    "        acronym_ix = df.candidate[df.candidate==acronym].index[0]\n",
    "        cur_acronym_clus = labels[acronym_ix]\n",
    "        acronym_clusters.append(cur_acronym_clus)\n",
    "        candidates_in_clus += [candidate for candidate in df[df.clus_labels==cur_acronym_clus].candidate]\n",
    "    \n",
    "    return acronym_clusters, candidates_in_clus\n",
    "\n",
    "def write_files(runs,algo,acronyms,df=fulldoc_df):\n",
    "    acronyms_str = ''.join(acronyms)\n",
    "    for ix in range(len(runs)):\n",
    "        cur_run = runs[ix]\n",
    "        \n",
    "        with open('fulldocclustering/{}params{}{}.txt'.format(algo,str(ix),acronyms_str),'w') as f:\n",
    "            f.write(json.dumps(cur_run[\"params\"]))\n",
    "            \n",
    "#         with open('fulldocclustering/{}homogeneity{}{}.txt'.format(algo,str(ix),acronyms_str),'w') as f:\n",
    "#             f.write(\"total per clus: \\n\\n\")\n",
    "#             total_per_clus = cur_run[\"total_per_clus\"]\n",
    "#             total_per_clus_str = {str(k): str(total_per_clus[k]) for k in list(total_per_clus)}\n",
    "#             f.write(json.dumps(total_per_clus_str)+'\\n')\n",
    "            \n",
    "#             homogeneity_per_clus = cur_run[\"clus_homogeneity_proportion\"]\n",
    "#             homogeneity_per_clus_str = {str(k): str(total_per_clus[k]) for k in list(homogeneity_per_clus)}\n",
    "#             f.write(\"homogeneity proportion per clus: \\n\\n\")\n",
    "#             f.write(json.dumps(homogeneity_per_clus_str)+\"\\n\\n\")\n",
    "#             f.write(\"silhouette score: {}\".format(str(cur_run[\"silhouette\"])))\n",
    "            \n",
    "        with open('fulldocclustering/{}ps_clus_cands{}{}.txt'.format(algo,str(ix),acronyms_str),'w',encoding='utf-8') as f:\n",
    "            ps_clus, cands_in_ps_clus = find_acronyms(df, cur_run[\"labels\"],acronyms)\n",
    "            f.write(\"ps cluster label: {}\\n\\n\".format(str(ps_clus)))\n",
    "            for cand in cands_in_ps_clus:\n",
    "                f.write(cand+'\\n')"
   ]
  },
  {
   "cell_type": "markdown",
   "metadata": {},
   "source": [
    "<h1>OPTICS clustering</h1>"
   ]
  },
  {
   "cell_type": "code",
   "execution_count": 172,
   "metadata": {},
   "outputs": [],
   "source": [
    "#ground_truths_hash = \n",
    "opt_runs = []\n",
    "opt_min_samples = [5,8,11,14]\n",
    "opt_distances = [\"minkowski\",\"cosine\"]\n",
    "leaf_sizes = [20,25,30,35,40]\n",
    "\n",
    "for min_sample_size in opt_min_samples:\n",
    "    for metric in opt_distances:\n",
    "        for leaf_size in leaf_sizes:\n",
    "            params = {\"min_samples\":min_sample_size,\n",
    "                     \"metric\": metric,\n",
    "                     \"leaf_size\": leaf_size}\n",
    "            labels = run_optics(X,params)\n",
    "            \n",
    "          #  opt_gt_total, opt_counter = get_cluster_homogeneity(labels,fulldoc_df.candidate,ground_truths_hash)\n",
    "          #  proportion = get_homogeneity_proportion(opt_gt_total, opt_counter)\n",
    "            opt_runs.append({\"params\":params,\n",
    "                             \"labels\":labels})\n",
    "                            # \"total_per_clus\":opt_counter\n",
    "                             #\"clus_homogeneity_proportion\": proportion})"
   ]
  },
  {
   "cell_type": "code",
   "execution_count": 173,
   "metadata": {
    "scrolled": true
   },
   "outputs": [],
   "source": [
    "write_files(opt_runs,\"optics\",acronyms=[\"PS\"])"
   ]
  },
  {
   "cell_type": "markdown",
   "metadata": {},
   "source": [
    "<h1>Agglomerative Clustering </h1>"
   ]
  },
  {
   "cell_type": "code",
   "execution_count": 174,
   "metadata": {},
   "outputs": [],
   "source": [
    "from sklearn.metrics import silhouette_score\n",
    "\n",
    "\n",
    "agg_runs = []\n",
    "n_clusters = [2,3,4,5]\n",
    "agg_linkage = [\"ward\",\"complete\",\"average\",\"single\"]\n",
    "\n",
    "for cluster_size in n_clusters:\n",
    "    for linkage in agg_linkage:\n",
    "        params = {\"n_clusters\":cluster_size,\n",
    "                     \"linkage\": linkage}\n",
    "        labels = run_agg_clustering(X,params)\n",
    "            \n",
    "    #    agg_gt_total, agg_counter = get_cluster_homogeneity(labels,fulldoc_df.candidate,ground_truths_hash)\n",
    "    #    proportion = get_homogeneity_proportion(agg_gt_total, agg_counter)\n",
    "        agg_runs.append({\"params\":params,\n",
    "                             \"labels\":labels,\n",
    "                          #   \"total_per_clus\":agg_counter})\n",
    "                         #    \"clus_homogeneity_proportion\": proportion,\n",
    "                            \"silhouette\":silhouette_score(X,labels)})"
   ]
  },
  {
   "cell_type": "code",
   "execution_count": 175,
   "metadata": {
    "scrolled": false
   },
   "outputs": [],
   "source": [
    "write_files(agg_runs,\"agg\",[\"PS\"])"
   ]
  },
  {
   "cell_type": "code",
   "execution_count": 176,
   "metadata": {},
   "outputs": [],
   "source": [
    "write_files(agg_runs,\"agg\",[\"PS\",\"PMMA\",\"PEO\"])"
   ]
  },
  {
   "cell_type": "code",
   "execution_count": 177,
   "metadata": {
    "scrolled": true
   },
   "outputs": [
    {
     "data": {
      "text/plain": [
       "[0.34605894144699756,\n",
       " 0.5418500134742427,\n",
       " 0.6309071955941088,\n",
       " 0.6250459714062533,\n",
       " 0.33796444852070423,\n",
       " 0.34675503307185807,\n",
       " 0.5975516709171821,\n",
       " 0.5933496802508984,\n",
       " 0.3363038290785124,\n",
       " 0.3092768017939306,\n",
       " 0.4793071084101629,\n",
       " 0.5943174474192882,\n",
       " 0.26258205022890135,\n",
       " 0.30205514596208155,\n",
       " 0.4146768783348345,\n",
       " 0.5845318022106909]"
      ]
     },
     "execution_count": 177,
     "metadata": {},
     "output_type": "execute_result"
    }
   ],
   "source": [
    "[x['silhouette'] for x in agg_runs]"
   ]
  },
  {
   "cell_type": "markdown",
   "metadata": {},
   "source": [
    "<h1>KMeans</h1>"
   ]
  },
  {
   "cell_type": "code",
   "execution_count": 178,
   "metadata": {},
   "outputs": [],
   "source": [
    "kmeans_runs = []\n",
    "k_params = [2,4,6,8,10,12]\n",
    "\n",
    "for k in k_params:\n",
    "    params = {\"n_clusters\":k}\n",
    "    labels = run_kmeans(X,params)\n",
    "            \n",
    " #   kmeans_gt_total, kmeans_counter = get_cluster_homogeneity(labels,fulldoc_df.candidate,ground_truths_hash)\n",
    "  #  proportion = get_homogeneity_proportion(kmeans_gt_total, kmeans_counter)\n",
    "    kmeans_runs.append({\"params\":params,\n",
    "                    \"labels\":labels})\n",
    "                    #\"total_per_clus\":kmeans_counter,\n",
    "                       #      \"clus_homogeneity_proportion\": proportion})"
   ]
  },
  {
   "cell_type": "code",
   "execution_count": 179,
   "metadata": {},
   "outputs": [],
   "source": [
    "write_files(kmeans_runs,\"kmeans\",[\"PS\"])"
   ]
  },
  {
   "cell_type": "markdown",
   "metadata": {},
   "source": [
    "After exploring each of the clustering output files,\n",
    " it seems agglomerative clustering does the best job of finding \n",
    "    other acronyms inside the cluster with 'PS'. \n",
    "    Next, we will add more common acronyms of https://docs.google.com/document/d/1bg1gcx_V1Ze2mYY3n1GQN2qb4neBKypYgazUreKfa68/edit\n",
    "    \n",
    "Also, silhouette curves will be drawn for Agglomerative clustering"
   ]
  },
  {
   "cell_type": "markdown",
   "metadata": {},
   "source": [
    "Finally, we will look at sub-clustering for clusters with PS, PMMA, and PEO"
   ]
  },
  {
   "cell_type": "code",
   "execution_count": 180,
   "metadata": {},
   "outputs": [],
   "source": [
    "labels = agg_runs[5][\"labels\"]\n",
    "acronyms = [\"PS\",\"PMMA\",\"PEO\"]\n",
    "fulldoc_df[\"agg_3labels\"] = labels\n",
    "cluster_labels = []\n",
    "for acronym in acronyms:\n",
    "    acronym_ix = fulldoc_df.candidate[fulldoc_df.candidate==acronym].index[0]\n",
    "    cluster_labels.append(labels[acronym_ix])"
   ]
  },
  {
   "cell_type": "markdown",
   "metadata": {},
   "source": [
    "Create a subset dataframe and run through clustering on only the clusters\n",
    "that contained one of our defined acronyms in the previous run."
   ]
  },
  {
   "cell_type": "code",
   "execution_count": 190,
   "metadata": {
    "scrolled": true
   },
   "outputs": [
    {
     "name": "stderr",
     "output_type": "stream",
     "text": [
      "C:\\Users\\danlg\\Anaconda3\\lib\\site-packages\\ipykernel_launcher.py:7: SettingWithCopyWarning: \n",
      "A value is trying to be set on a copy of a slice from a DataFrame.\n",
      "Try using .loc[row_indexer,col_indexer] = value instead\n",
      "\n",
      "See the caveats in the documentation: http://pandas.pydata.org/pandas-docs/stable/user_guide/indexing.html#returning-a-view-versus-a-copy\n",
      "  import sys\n"
     ]
    }
   ],
   "source": [
    "subset_df = fulldoc_df[fulldoc_df[\"agg_3labels\"].isin(cluster_labels)]\n",
    "subset_df.index = pd.RangeIndex(start=0,stop=len(subset_df),step=1)\n",
    "X = np.array(get_X_from_df(subset_df.unsupervised_coords))\n",
    "X = pd.DataFrame(X)\n",
    "\n",
    "from sklearn.metrics import silhouette_score\n",
    "\n",
    "agg_runs = []\n",
    "n_clusters = [2,3,4,5]\n",
    "agg_linkage = [\"ward\",\"complete\",\"average\",\"single\"]\n",
    "\n",
    "for cluster_size in n_clusters:\n",
    "    for linkage in agg_linkage:\n",
    "        params = {\"n_clusters\":cluster_size,\n",
    "                     \"linkage\": linkage}\n",
    "        labels = run_agg_clustering(X,params)\n",
    "            \n",
    "#         agg_gt_total, agg_counter = get_cluster_homogeneity(labels,subset_df.candidate,ground_truths_hash)\n",
    "#         proportion = get_homogeneity_proportion(agg_gt_total, agg_counter)\n",
    "        agg_data = {\"params\":params,\n",
    "                             \"labels\":labels,\n",
    "#                              \"total_per_clus\":agg_counter,\n",
    "#                              \"clus_homogeneity_proportion\": proportion,\n",
    "                               \"silhouette\":silhouette_score(X,labels)}\n",
    "        agg_runs.append(agg_data)\n",
    "        \n",
    "write_files(agg_runs,\"agg_subcluster5PSPMMAPEO\",[\"PS\",\"PMMA\",\"PEO\"],df=subset_df)"
   ]
  },
  {
   "cell_type": "code",
   "execution_count": 181,
   "metadata": {},
   "outputs": [
    {
     "data": {
      "text/plain": [
       "False    756\n",
       "True     167\n",
       "Name: is_groundtruth, dtype: int64"
      ]
     },
     "execution_count": 181,
     "metadata": {},
     "output_type": "execute_result"
    }
   ],
   "source": [
    "fulldoc_df.is_groundtruth.value_counts()"
   ]
  },
  {
   "cell_type": "markdown",
   "metadata": {},
   "source": [
    "Next steps\n",
    "1. Calculate homogeneity of agglomerative with ONLY PS for the following...\n",
    "\n",
    "{\"n_clusters\": 2, \"linkage\": \"complete\"}<br>\n",
    "{\"n_clusters\": 3, \"linkage\": \"complete\"}\n",
    "\n",
    "2. Create TSNE plot with candidates from the above clusters vs rest of population\n",
    "\n",
    "3. Repeat aggl individually for PMMA and PEO\n",
    "4. Remember proportional cluster_size to population size whenn considering this.\n",
    "5. Apply to different candidate set\n",
    "6. Maybe also show some graph of the homogeneity over cluster size for each linkage method\n"
   ]
  },
  {
   "cell_type": "code",
   "execution_count": 217,
   "metadata": {
    "scrolled": true
   },
   "outputs": [],
   "source": [
    "def identify_cluster(df,cluster_list):\n",
    "    df[\"temp_cluster_col\"] = 0\n",
    "    for ix in df.index:\n",
    "        candidate = df.loc[ix,\"candidate\"]\n",
    "        df.loc[ix,\"temp_cluster_col\"] = 1 if candidate in cluster_list else 0 \n",
    "    \n",
    "    return df"
   ]
  },
  {
   "cell_type": "code",
   "execution_count": 220,
   "metadata": {},
   "outputs": [],
   "source": [
    "def tsne_plot_candidates(df,colors, clus_labels_name, outfile = \"./clustering_coords.png\"):\n",
    "\n",
    "\n",
    "    tsne_model = TSNE(perplexity=5, n_components=2, init='pca', n_iter=250, random_state=23)\n",
    "    all_values = tsne_model.fit_transform(get_X_from_df(df_exp1.unsupervised_coords))\n",
    "    \n",
    "    x0 = []\n",
    "    y0 = []\n",
    "\n",
    "    for value in all_values:\n",
    "        x0.append(value[0])\n",
    "        y0.append(value[1])\n",
    "        \n",
    "    plt.figure(figsize=(20, 20)) \n",
    "        \n",
    "    print(\"Beginning plotting..\")\n",
    "    for i in range(len(x0)):\n",
    "        plt.scatter(x0[i],y0[i], color=colors[df.loc[i,clus_labels_name]])\n",
    "\n",
    "        \n",
    "    plt.legend(colors.keys(), loc=\"upper left\")\n",
    "    plt.savefig(outfile, format=\"png\")\n",
    "    plt.show()\n",
    "    plt.close()"
   ]
  },
  {
   "cell_type": "code",
   "execution_count": 198,
   "metadata": {
    "scrolled": true
   },
   "outputs": [
    {
     "name": "stdout",
     "output_type": "stream",
     "text": [
      "0.46153846153846156\n"
     ]
    },
    {
     "name": "stderr",
     "output_type": "stream",
     "text": [
      "C:\\Users\\danlg\\Anaconda3\\lib\\site-packages\\ipykernel_launcher.py:18: FutureWarning: `item` has been deprecated and will be removed in a future version\n"
     ]
    }
   ],
   "source": [
    "# n_clusters: 2, linkage: complete results...\n",
    "\n",
    "TOP_PERFORMERS_DIR = 'fulldocclustering'\n",
    "\n",
    "def get_polymer_percentage(file_name):\n",
    "    with open(file_name,'r',encoding='utf-8') as f:\n",
    "        top_performers = []\n",
    "        for candidate in f.readlines():\n",
    "            if candidate != '\\n' and 'cluster label' not in candidate:\n",
    "                top_performers.append(candidate.strip('\\n'))\n",
    "\n",
    "        top_performers = top_performers[1:]\n",
    "\n",
    "    total_polymers = 0\n",
    "    for polymer in top_performers:\n",
    "        is_groundtruth = fulldoc_df.loc[fulldoc_df[\"candidate\"]==polymer,\"is_groundtruth\"]\n",
    "        #if candidate appears \n",
    "        total_polymers = (total_polymers + 1) if is_groundtruth.item() else total_polymers\n",
    "\n",
    "    return (total_polymers/len(top_performers)), top_performers\n",
    "\n",
    "top_polymers_1ps = get_polymer_percentage(TOP_PERFORMERS_DIR+'/aggps_clus_cands1PS.txt')\n",
    "print(top_polymers_1ps[0])"
   ]
  },
  {
   "cell_type": "code",
   "execution_count": 225,
   "metadata": {},
   "outputs": [
    {
     "name": "stdout",
     "output_type": "stream",
     "text": [
      "Beginning plotting..\n"
     ]
    },
    {
     "data": {
      "image/png": "[encoded data removed]",
      "text/plain": [
       "<Figure size 1440x1440 with 1 Axes>"
      ]
     },
     "metadata": {
      "needs_background": "light"
     },
     "output_type": "display_data"
    }
   ],
   "source": [
    "colors = {1:'blue', 0: 'red'}\n",
    "labeled_df = identify_cluster(fulldoc_df,top_polymers_1ps[1])\n",
    "tsne_plot_candidates(labeled_df,colors,\"temp_cluster_col\",\"agg_tsne_1ps.png\")"
   ]
  },
  {
   "cell_type": "code",
   "execution_count": 183,
   "metadata": {
    "scrolled": false
   },
   "outputs": [
    {
     "data": {
      "text/html": [
       "<div>\n",
       "<style scoped>\n",
       "    .dataframe tbody tr th:only-of-type {\n",
       "        vertical-align: middle;\n",
       "    }\n",
       "\n",
       "    .dataframe tbody tr th {\n",
       "        vertical-align: top;\n",
       "    }\n",
       "\n",
       "    .dataframe thead th {\n",
       "        text-align: right;\n",
       "    }\n",
       "</style>\n",
       "<table border=\"1\" class=\"dataframe\">\n",
       "  <thead>\n",
       "    <tr style=\"text-align: right;\">\n",
       "      <th></th>\n",
       "      <th>candidate</th>\n",
       "      <th>is_groundtruth</th>\n",
       "    </tr>\n",
       "  </thead>\n",
       "  <tbody>\n",
       "    <tr>\n",
       "      <td>17</td>\n",
       "      <td>PMMA</td>\n",
       "      <td>True</td>\n",
       "    </tr>\n",
       "    <tr>\n",
       "      <td>71</td>\n",
       "      <td>poly(methyl acrylate)</td>\n",
       "      <td>True</td>\n",
       "    </tr>\n",
       "    <tr>\n",
       "      <td>82</td>\n",
       "      <td>polybutadienes</td>\n",
       "      <td>False</td>\n",
       "    </tr>\n",
       "    <tr>\n",
       "      <td>83</td>\n",
       "      <td>polystyrenes</td>\n",
       "      <td>False</td>\n",
       "    </tr>\n",
       "    <tr>\n",
       "      <td>241</td>\n",
       "      <td>polybutadiene</td>\n",
       "      <td>True</td>\n",
       "    </tr>\n",
       "    <tr>\n",
       "      <td>253</td>\n",
       "      <td>poly(tert-butylstyrene)</td>\n",
       "      <td>False</td>\n",
       "    </tr>\n",
       "    <tr>\n",
       "      <td>278</td>\n",
       "      <td>PS)/poly(vinyl methyl ether</td>\n",
       "      <td>False</td>\n",
       "    </tr>\n",
       "    <tr>\n",
       "      <td>284</td>\n",
       "      <td>PS/poly(methyl methacrylate)</td>\n",
       "      <td>True</td>\n",
       "    </tr>\n",
       "    <tr>\n",
       "      <td>305</td>\n",
       "      <td>poly(styrene-co-2,3,4,5,6-pentafluorostyrene)</td>\n",
       "      <td>True</td>\n",
       "    </tr>\n",
       "    <tr>\n",
       "      <td>362</td>\n",
       "      <td>PS–PMMA</td>\n",
       "      <td>False</td>\n",
       "    </tr>\n",
       "    <tr>\n",
       "      <td>369</td>\n",
       "      <td>homopolystyrene</td>\n",
       "      <td>False</td>\n",
       "    </tr>\n",
       "    <tr>\n",
       "      <td>489</td>\n",
       "      <td>PEO)/poly(methyl methacrylate</td>\n",
       "      <td>False</td>\n",
       "    </tr>\n",
       "    <tr>\n",
       "      <td>516</td>\n",
       "      <td>poly(ethylene oxide)/poly(methyl methacrylate)</td>\n",
       "      <td>False</td>\n",
       "    </tr>\n",
       "    <tr>\n",
       "      <td>604</td>\n",
       "      <td>poly(methyl methacrylate)</td>\n",
       "      <td>True</td>\n",
       "    </tr>\n",
       "    <tr>\n",
       "      <td>610</td>\n",
       "      <td>(PSF)/PVP</td>\n",
       "      <td>True</td>\n",
       "    </tr>\n",
       "    <tr>\n",
       "      <td>631</td>\n",
       "      <td>PtBMA-b-poly(glycidyl methacrylate)-b-PS</td>\n",
       "      <td>False</td>\n",
       "    </tr>\n",
       "    <tr>\n",
       "      <td>653</td>\n",
       "      <td>Polystyrene</td>\n",
       "      <td>True</td>\n",
       "    </tr>\n",
       "    <tr>\n",
       "      <td>717</td>\n",
       "      <td>PEO−DME)/poly(methyl methacrylate</td>\n",
       "      <td>False</td>\n",
       "    </tr>\n",
       "    <tr>\n",
       "      <td>740</td>\n",
       "      <td>cis-polyisoprene</td>\n",
       "      <td>False</td>\n",
       "    </tr>\n",
       "    <tr>\n",
       "      <td>758</td>\n",
       "      <td>poly(styrene)</td>\n",
       "      <td>True</td>\n",
       "    </tr>\n",
       "    <tr>\n",
       "      <td>771</td>\n",
       "      <td>poly(cyclohexyl acrylate)</td>\n",
       "      <td>True</td>\n",
       "    </tr>\n",
       "    <tr>\n",
       "      <td>772</td>\n",
       "      <td>PS/tricresyl</td>\n",
       "      <td>False</td>\n",
       "    </tr>\n",
       "    <tr>\n",
       "      <td>803</td>\n",
       "      <td>poly(methyl-n-propylsilane)</td>\n",
       "      <td>False</td>\n",
       "    </tr>\n",
       "    <tr>\n",
       "      <td>816</td>\n",
       "      <td>PS</td>\n",
       "      <td>True</td>\n",
       "    </tr>\n",
       "    <tr>\n",
       "      <td>843</td>\n",
       "      <td>poly(tert-butyl acrylate)</td>\n",
       "      <td>True</td>\n",
       "    </tr>\n",
       "    <tr>\n",
       "      <td>860</td>\n",
       "      <td>poly(2-vinylpyridine)</td>\n",
       "      <td>True</td>\n",
       "    </tr>\n",
       "    <tr>\n",
       "      <td>917</td>\n",
       "      <td>(PtBA)/PS</td>\n",
       "      <td>False</td>\n",
       "    </tr>\n",
       "  </tbody>\n",
       "</table>\n",
       "</div>"
      ],
      "text/plain": [
       "                                          candidate is_groundtruth\n",
       "17                                             PMMA           True\n",
       "71                            poly(methyl acrylate)           True\n",
       "82                                   polybutadienes          False\n",
       "83                                     polystyrenes          False\n",
       "241                                   polybutadiene           True\n",
       "253                         poly(tert-butylstyrene)          False\n",
       "278                     PS)/poly(vinyl methyl ether          False\n",
       "284                    PS/poly(methyl methacrylate)           True\n",
       "305   poly(styrene-co-2,3,4,5,6-pentafluorostyrene)           True\n",
       "362                                         PS–PMMA          False\n",
       "369                                 homopolystyrene          False\n",
       "489                   PEO)/poly(methyl methacrylate          False\n",
       "516  poly(ethylene oxide)/poly(methyl methacrylate)          False\n",
       "604                       poly(methyl methacrylate)           True\n",
       "610                                       (PSF)/PVP           True\n",
       "631        PtBMA-b-poly(glycidyl methacrylate)-b-PS          False\n",
       "653                                     Polystyrene           True\n",
       "717               PEO−DME)/poly(methyl methacrylate          False\n",
       "740                                cis-polyisoprene          False\n",
       "758                                   poly(styrene)           True\n",
       "771                       poly(cyclohexyl acrylate)           True\n",
       "772                                    PS/tricresyl          False\n",
       "803                     poly(methyl-n-propylsilane)          False\n",
       "816                                              PS           True\n",
       "843                       poly(tert-butyl acrylate)           True\n",
       "860                           poly(2-vinylpyridine)           True\n",
       "917                                       (PtBA)/PS          False"
      ]
     },
     "execution_count": 183,
     "metadata": {},
     "output_type": "execute_result"
    }
   ],
   "source": [
    "pd.set_option('display.max_rows', 500)\n",
    "fulldoc_df.loc[fulldoc_df[\"candidate\"].isin(top_performers_2_linkage),[\"candidate\",\"is_groundtruth\"]]"
   ]
  },
  {
   "cell_type": "markdown",
   "metadata": {},
   "source": [
    "Judging from the above, it appears that some of the candidates labeled as non-polymers are potentialyl polymers despite not appearing in the ground_truth file. Below, it can be seen that n_clusters of 2 and 3 for agglomerative resulted in the same homogeneity of the cluster containing 'PS'"
   ]
  },
  {
   "cell_type": "code",
   "execution_count": 188,
   "metadata": {},
   "outputs": [
    {
     "name": "stderr",
     "output_type": "stream",
     "text": [
      "C:\\Users\\danlg\\Anaconda3\\lib\\site-packages\\ipykernel_launcher.py:18: FutureWarning: `item` has been deprecated and will be removed in a future version\n"
     ]
    },
    {
     "data": {
      "text/plain": [
       "0.46153846153846156"
      ]
     },
     "execution_count": 188,
     "metadata": {},
     "output_type": "execute_result"
    }
   ],
   "source": [
    "get_polymer_percentage(TOP_PERFORMERS_DIR+'/aggps_clus_cands5PS.txt')"
   ]
  },
  {
   "cell_type": "markdown",
   "metadata": {},
   "source": [
    "Next, we will take a look below to see how kmeans did."
   ]
  },
  {
   "cell_type": "code",
   "execution_count": 226,
   "metadata": {},
   "outputs": [
    {
     "name": "stderr",
     "output_type": "stream",
     "text": [
      "C:\\Users\\danlg\\Anaconda3\\lib\\site-packages\\ipykernel_launcher.py:18: FutureWarning: `item` has been deprecated and will be removed in a future version\n"
     ]
    },
    {
     "name": "stdout",
     "output_type": "stream",
     "text": [
      "the proportion of true polymers was 0.34552845528455284\n",
      "Beginning plotting..\n"
     ]
    },
    {
     "data": {
      "image/png": "[encoded data removed]",
      "text/plain": [
       "<Figure size 1440x1440 with 1 Axes>"
      ]
     },
     "metadata": {
      "needs_background": "light"
     },
     "output_type": "display_data"
    },
    {
     "name": "stderr",
     "output_type": "stream",
     "text": [
      "C:\\Users\\danlg\\Anaconda3\\lib\\site-packages\\ipykernel_launcher.py:18: FutureWarning: `item` has been deprecated and will be removed in a future version\n"
     ]
    },
    {
     "name": "stdout",
     "output_type": "stream",
     "text": [
      "the proportion of true polymers was 0.2297872340425532\n",
      "Beginning plotting..\n"
     ]
    },
    {
     "data": {
      "image/png": "[encoded data removed]",
      "text/plain": [
       "<Figure size 1440x1440 with 1 Axes>"
      ]
     },
     "metadata": {
      "needs_background": "light"
     },
     "output_type": "display_data"
    },
    {
     "name": "stderr",
     "output_type": "stream",
     "text": [
      "C:\\Users\\danlg\\Anaconda3\\lib\\site-packages\\ipykernel_launcher.py:18: FutureWarning: `item` has been deprecated and will be removed in a future version\n"
     ]
    },
    {
     "name": "stdout",
     "output_type": "stream",
     "text": [
      "the proportion of true polymers was 0.5348837209302325\n",
      "Beginning plotting..\n"
     ]
    },
    {
     "data": {
      "image/png": "[encoded data removed]",
      "text/plain": [
       "<Figure size 1440x1440 with 1 Axes>"
      ]
     },
     "metadata": {
      "needs_background": "light"
     },
     "output_type": "display_data"
    },
    {
     "name": "stderr",
     "output_type": "stream",
     "text": [
      "C:\\Users\\danlg\\Anaconda3\\lib\\site-packages\\ipykernel_launcher.py:18: FutureWarning: `item` has been deprecated and will be removed in a future version\n"
     ]
    },
    {
     "name": "stdout",
     "output_type": "stream",
     "text": [
      "the proportion of true polymers was 0.24561403508771928\n",
      "Beginning plotting..\n"
     ]
    },
    {
     "data": {
      "image/png": "[encoded data removed]",
      "text/plain": [
       "<Figure size 1440x1440 with 1 Axes>"
      ]
     },
     "metadata": {
      "needs_background": "light"
     },
     "output_type": "display_data"
    },
    {
     "name": "stderr",
     "output_type": "stream",
     "text": [
      "C:\\Users\\danlg\\Anaconda3\\lib\\site-packages\\ipykernel_launcher.py:18: FutureWarning: `item` has been deprecated and will be removed in a future version\n"
     ]
    },
    {
     "name": "stdout",
     "output_type": "stream",
     "text": [
      "the proportion of true polymers was 0.3448275862068966\n",
      "Beginning plotting..\n"
     ]
    },
    {
     "data": {
      "image/png": "[encoded data removed]",
      "text/plain": [
       "<Figure size 1440x1440 with 1 Axes>"
      ]
     },
     "metadata": {
      "needs_background": "light"
     },
     "output_type": "display_data"
    },
    {
     "name": "stderr",
     "output_type": "stream",
     "text": [
      "C:\\Users\\danlg\\Anaconda3\\lib\\site-packages\\ipykernel_launcher.py:18: FutureWarning: `item` has been deprecated and will be removed in a future version\n"
     ]
    },
    {
     "name": "stdout",
     "output_type": "stream",
     "text": [
      "the proportion of true polymers was 0.3448275862068966\n",
      "Beginning plotting..\n"
     ]
    },
    {
     "data": {
      "image/png": "[encoded data removed]",
      "text/plain": [
       "<Figure size 1440x1440 with 1 Axes>"
      ]
     },
     "metadata": {
      "needs_background": "light"
     },
     "output_type": "display_data"
    }
   ],
   "source": [
    "root_name = '/kmeansps_clus_cands'\n",
    "for i in range(0,6):\n",
    "    kmeans_candidates = get_polymer_percentage(TOP_PERFORMERS_DIR+root_name+str(i)+'PS.txt')\n",
    "    print(\"the proportion of true polymers was {}\".format(str(kmeans_candidates[0])))\n",
    "    colors = {1:'blue', 0: 'red'}\n",
    "    labeled_df = identify_cluster(fulldoc_df,kmeans_candidates[1])\n",
    "    tsne_plot_candidates(labeled_df,colors,\"temp_cluster_col\",\"kmeans_tsne_{}.png\".format(str(i)))"
   ]
  },
  {
   "cell_type": "markdown",
   "metadata": {},
   "source": [
    "The above kmeans associated with kmeans run 2 had the highest cluster homogeneity. This has parameters {\"n_clusters\": 6}.\n",
    "Interestingly, this plot is most similar to the agglomerative TSNE plot of the cluster that performed relatively well."
   ]
  },
  {
   "cell_type": "code",
   "execution_count": null,
   "metadata": {},
   "outputs": [],
   "source": []
  }
 ],
 "metadata": {
  "kernelspec": {
   "display_name": "Python 3",
   "language": "python",
   "name": "python3"
  },
  "language_info": {
   "codemirror_mode": {
    "name": "ipython",
    "version": 3
   },
   "file_extension": ".py",
   "mimetype": "text/x-python",
   "name": "python",
   "nbconvert_exporter": "python",
   "pygments_lexer": "ipython3",
   "version": "3.7.4"
  }
 },
 "nbformat": 4,
 "nbformat_minor": 2
}
